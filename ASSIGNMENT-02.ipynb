{
 "cells": [
  {
   "cell_type": "code",
   "execution_count": 6,
   "id": "e1a8da8a",
   "metadata": {},
   "outputs": [
    {
     "name": "stdout",
     "output_type": "stream",
     "text": [
      "Enter the number between[1-10]:5\n",
      "Guess the number between 1 and 10:6\n",
      "Guess is too high,TRY AGAIN!\n",
      "Guess the number between 1 and 10:3\n",
      "guess is too low,TRY AGAIN!\n",
      "Guess the number between 1 and 10:5\n",
      "Congratulation Guess is correct!\n",
      "Game Finished\n"
     ]
    }
   ],
   "source": [
    "secreatnumber=int(input(\"Enter the number between[1-10]:\"))\n",
    "while True:\n",
    "    guess=int(input(\"Guess the number between 1 and 10:\"))\n",
    "    if secreatnumber==guess:\n",
    "        print(\"Congratulation Guess is correct!\")\n",
    "        break\n",
    "    else:\n",
    "        if guess>secreatnumber:\n",
    "            print(\"Guess is too high,TRY AGAIN!\")\n",
    "        else:\n",
    "            print(\"guess is too low,TRY AGAIN!\")\n",
    "print(\"Game Finished\")\n",
    "\n"
   ]
  },
  {
   "cell_type": "code",
   "execution_count": 5,
   "id": "3477bc75",
   "metadata": {},
   "outputs": [
    {
     "name": "stdout",
     "output_type": "stream",
     "text": [
      "Enter a number: 5\n",
      "The factorial is 120\n"
     ]
    }
   ],
   "source": [
    "n=int(input(\"Enter a number: \"))\n",
    "fact=1\n",
    "if n< 0:\n",
    "   print(\"SORRY!,THERE IS NO FACTORIAL FOR NEGATIVE NUMBER\")\n",
    "elif n==0:\n",
    "   print(\"The factorial of 0 is 1\")\n",
    "else:\n",
    "   for i in range(1,n+1):\n",
    "       fact=fact*i\n",
    "   print(\"The factorial is\",fact)"
   ]
  },
  {
   "cell_type": "code",
   "execution_count": 3,
   "id": "0f7ba53f",
   "metadata": {},
   "outputs": [
    {
     "name": "stdout",
     "output_type": "stream",
     "text": [
      "Hello Roy!you can upload your profile\n",
      "Enter the minimum length that can be accepted=10\n",
      "how much you have=3\n",
      "Enter the width of the picture=10\n",
      "Enter the height of the picture=10\n",
      "ACCEPTED\n",
      "Enter the width of the picture=10\n",
      "Enter the height of the picture=13\n",
      "CROP IT\n",
      "Enter the width of the picture=9\n",
      "Enter the height of the picture=8\n",
      "UPLOAD ANOTHER!\n",
      "THANKYOU\n"
     ]
    }
   ],
   "source": [
    "print(\"Hello Roy!you can upload your profile\")\n",
    "l=int(input(\"Enter the minimum length that can be accepted=\"))\n",
    "n=int(input(\"how much you have=\"))\n",
    "i=0\n",
    "while i<n:\n",
    "    w=int(input(\"Enter the width of the picture=\"))\n",
    "    h=int(input(\"Enter the height of the picture=\"))\n",
    "    if w<l or h<l:\n",
    "        print(\"UPLOAD ANOTHER!\")\n",
    "    elif w==l and h==l:\n",
    "        print(\"ACCEPTED\")\n",
    "    else:\n",
    "        print('CROP IT')\n",
    "    n-=1\n",
    "print(\"THANKYOU\")"
   ]
  },
  {
   "cell_type": "code",
   "execution_count": null,
   "id": "37a8df81",
   "metadata": {},
   "outputs": [],
   "source": []
  }
 ],
 "metadata": {
  "kernelspec": {
   "display_name": "Python 3 (ipykernel)",
   "language": "python",
   "name": "python3"
  },
  "language_info": {
   "codemirror_mode": {
    "name": "ipython",
    "version": 3
   },
   "file_extension": ".py",
   "mimetype": "text/x-python",
   "name": "python",
   "nbconvert_exporter": "python",
   "pygments_lexer": "ipython3",
   "version": "3.10.9"
  }
 },
 "nbformat": 4,
 "nbformat_minor": 5
}
